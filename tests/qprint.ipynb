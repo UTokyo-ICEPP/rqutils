{
 "cells": [
  {
   "cell_type": "markdown",
   "id": "2642ab7d-3b55-4138-9c15-aa35852e0684",
   "metadata": {},
   "source": [
    "# `qprint` validation"
   ]
  },
  {
   "cell_type": "code",
   "execution_count": 1,
   "id": "3e5084a4-ee49-4977-ba02-7abdd38a000c",
   "metadata": {},
   "outputs": [],
   "source": [
    "%load_ext autoreload\n",
    "%autoreload 1\n",
    "%aimport rqutils.qprint"
   ]
  },
  {
   "cell_type": "code",
   "execution_count": 2,
   "id": "b2b08296-4e1a-45e5-99fb-a32ae6b49da9",
   "metadata": {},
   "outputs": [],
   "source": [
    "import numpy as np\n",
    "import qutip as qtp"
   ]
  },
  {
   "cell_type": "code",
   "execution_count": 3,
   "id": "26a2ab94-6156-48e4-8f99-4fd5eb6c0035",
   "metadata": {},
   "outputs": [
    {
     "data": {
      "text/latex": [
       "$\\displaystyle | 0 \\rangle + | 1 \\rangle$"
      ],
      "text/plain": [
       "<rqutils.qprint.LaTeXRepr at 0x7f996fafec40>"
      ]
     },
     "execution_count": 3,
     "metadata": {},
     "output_type": "execute_result"
    }
   ],
   "source": [
    "rqutils.qprint.qprint(qtp.basis(3, 0) + qtp.basis(3, 1))"
   ]
  },
  {
   "cell_type": "code",
   "execution_count": 4,
   "id": "23c307fd-aec7-437b-a3b7-5f96ce608929",
   "metadata": {},
   "outputs": [
    {
     "data": {
      "text/latex": [
       "$\\displaystyle 4\\frac{XYZ}{2^{2}}$"
      ],
      "text/plain": [
       "<rqutils.qprint.LaTeXRepr at 0x7f9af4571a00>"
      ]
     },
     "execution_count": 4,
     "metadata": {},
     "output_type": "execute_result"
    }
   ],
   "source": [
    "rqutils.qprint.qprint(qtp.tensor(qtp.sigmax(), qtp.sigmay(), qtp.sigmaz()), dim=(2, 2, 2), fmt='pauli')"
   ]
  },
  {
   "cell_type": "code",
   "execution_count": null,
   "id": "0ece6264-364f-402f-9796-7cbf18ad9850",
   "metadata": {},
   "outputs": [],
   "source": []
  }
 ],
 "metadata": {
  "kernelspec": {
   "display_name": "Python 3 (ipykernel)",
   "language": "python",
   "name": "python3"
  },
  "language_info": {
   "codemirror_mode": {
    "name": "ipython",
    "version": 3
   },
   "file_extension": ".py",
   "mimetype": "text/x-python",
   "name": "python",
   "nbconvert_exporter": "python",
   "pygments_lexer": "ipython3",
   "version": "3.8.10"
  }
 },
 "nbformat": 4,
 "nbformat_minor": 5
}
