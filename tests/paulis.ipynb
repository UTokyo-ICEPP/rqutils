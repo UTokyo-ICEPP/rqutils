{
 "cells": [
  {
   "cell_type": "markdown",
   "id": "f69f4b4b-ad88-48a1-bcfa-1a036eb4e424",
   "metadata": {},
   "source": [
    "# `paulis` validation"
   ]
  },
  {
   "cell_type": "code",
   "execution_count": 1,
   "id": "a013b440-ccb9-4fb7-be30-1dd985477ea7",
   "metadata": {},
   "outputs": [],
   "source": [
    "%load_ext autoreload\n",
    "%autoreload 1\n",
    "%aimport rqutils.paulis"
   ]
  },
  {
   "cell_type": "code",
   "execution_count": 2,
   "id": "b7a08146-5029-4a9e-8746-ad375ed1f4b8",
   "metadata": {},
   "outputs": [],
   "source": [
    "import numpy as np"
   ]
  },
  {
   "cell_type": "markdown",
   "id": "b95961b7-5071-4b75-84db-a40dd3388925",
   "metadata": {},
   "source": [
    "## `paulis.paulis`"
   ]
  },
  {
   "cell_type": "code",
   "execution_count": 3,
   "id": "a614574b-5ba8-4320-a2e7-d5585f75a2ba",
   "metadata": {},
   "outputs": [
    {
     "data": {
      "text/plain": [
       "array([[[ 1.+0.j,  0.+0.j],\n",
       "        [ 0.+0.j,  1.+0.j]],\n",
       "\n",
       "       [[ 0.+0.j,  1.+0.j],\n",
       "        [ 1.+0.j,  0.+0.j]],\n",
       "\n",
       "       [[ 0.+0.j,  0.-1.j],\n",
       "        [ 0.+1.j,  0.+0.j]],\n",
       "\n",
       "       [[ 1.+0.j,  0.+0.j],\n",
       "        [ 0.+0.j, -1.+0.j]]])"
      ]
     },
     "execution_count": 3,
     "metadata": {},
     "output_type": "execute_result"
    }
   ],
   "source": [
    "rqutils.paulis.paulis(2)"
   ]
  },
  {
   "cell_type": "code",
   "execution_count": 4,
   "id": "8338404a-3242-4cb4-ab28-3a37e96e0182",
   "metadata": {},
   "outputs": [
    {
     "data": {
      "text/plain": [
       "array([[[[ 0.5+0.j ,  0. +0.j ,  0. +0.j ,  0. +0.j ],\n",
       "         [ 0. +0.j ,  0.5+0.j ,  0. +0.j ,  0. +0.j ],\n",
       "         [ 0. +0.j ,  0. +0.j ,  0.5+0.j ,  0. +0.j ],\n",
       "         [ 0. +0.j ,  0. +0.j ,  0. +0.j ,  0.5+0.j ]],\n",
       "\n",
       "        [[ 0. +0.j ,  0.5+0.j ,  0. +0.j ,  0. +0.j ],\n",
       "         [ 0.5+0.j ,  0. +0.j ,  0. +0.j ,  0. +0.j ],\n",
       "         [ 0. +0.j ,  0. +0.j ,  0. +0.j ,  0.5+0.j ],\n",
       "         [ 0. +0.j ,  0. +0.j ,  0.5+0.j ,  0. +0.j ]],\n",
       "\n",
       "        [[ 0. +0.j ,  0. -0.5j,  0. +0.j ,  0. +0.j ],\n",
       "         [ 0. +0.5j,  0. +0.j ,  0. +0.j ,  0. +0.j ],\n",
       "         [ 0. +0.j ,  0. +0.j ,  0. +0.j ,  0. -0.5j],\n",
       "         [ 0. +0.j ,  0. +0.j ,  0. +0.5j,  0. +0.j ]],\n",
       "\n",
       "        [[ 0.5+0.j ,  0. +0.j ,  0. +0.j ,  0. +0.j ],\n",
       "         [ 0. +0.j , -0.5+0.j ,  0. +0.j ,  0. +0.j ],\n",
       "         [ 0. +0.j ,  0. +0.j ,  0.5+0.j ,  0. +0.j ],\n",
       "         [ 0. +0.j ,  0. +0.j ,  0. +0.j , -0.5+0.j ]]],\n",
       "\n",
       "\n",
       "       [[[ 0. +0.j ,  0. +0.j ,  0.5+0.j ,  0. +0.j ],\n",
       "         [ 0. +0.j ,  0. +0.j ,  0. +0.j ,  0.5+0.j ],\n",
       "         [ 0.5+0.j ,  0. +0.j ,  0. +0.j ,  0. +0.j ],\n",
       "         [ 0. +0.j ,  0.5+0.j ,  0. +0.j ,  0. +0.j ]],\n",
       "\n",
       "        [[ 0. +0.j ,  0. +0.j ,  0. +0.j ,  0.5+0.j ],\n",
       "         [ 0. +0.j ,  0. +0.j ,  0.5+0.j ,  0. +0.j ],\n",
       "         [ 0. +0.j ,  0.5+0.j ,  0. +0.j ,  0. +0.j ],\n",
       "         [ 0.5+0.j ,  0. +0.j ,  0. +0.j ,  0. +0.j ]],\n",
       "\n",
       "        [[ 0. +0.j ,  0. +0.j ,  0. +0.j ,  0. -0.5j],\n",
       "         [ 0. +0.j ,  0. +0.j ,  0. +0.5j,  0. +0.j ],\n",
       "         [ 0. +0.j ,  0. -0.5j,  0. +0.j ,  0. +0.j ],\n",
       "         [ 0. +0.5j,  0. +0.j ,  0. +0.j ,  0. +0.j ]],\n",
       "\n",
       "        [[ 0. +0.j ,  0. +0.j ,  0.5+0.j ,  0. +0.j ],\n",
       "         [ 0. +0.j ,  0. +0.j ,  0. +0.j , -0.5+0.j ],\n",
       "         [ 0.5+0.j ,  0. +0.j ,  0. +0.j ,  0. +0.j ],\n",
       "         [ 0. +0.j , -0.5+0.j ,  0. +0.j ,  0. +0.j ]]],\n",
       "\n",
       "\n",
       "       [[[ 0. +0.j ,  0. +0.j ,  0. -0.5j,  0. +0.j ],\n",
       "         [ 0. +0.j ,  0. +0.j ,  0. +0.j ,  0. -0.5j],\n",
       "         [ 0. +0.5j,  0. +0.j ,  0. +0.j ,  0. +0.j ],\n",
       "         [ 0. +0.j ,  0. +0.5j,  0. +0.j ,  0. +0.j ]],\n",
       "\n",
       "        [[ 0. +0.j ,  0. +0.j ,  0. +0.j ,  0. -0.5j],\n",
       "         [ 0. +0.j ,  0. +0.j ,  0. -0.5j,  0. +0.j ],\n",
       "         [ 0. +0.j ,  0. +0.5j,  0. +0.j ,  0. +0.j ],\n",
       "         [ 0. +0.5j,  0. +0.j ,  0. +0.j ,  0. +0.j ]],\n",
       "\n",
       "        [[ 0. +0.j ,  0. +0.j ,  0. +0.j , -0.5+0.j ],\n",
       "         [ 0. +0.j ,  0. +0.j ,  0.5+0.j ,  0. +0.j ],\n",
       "         [ 0. +0.j ,  0.5+0.j ,  0. +0.j ,  0. +0.j ],\n",
       "         [-0.5+0.j ,  0. +0.j ,  0. +0.j ,  0. +0.j ]],\n",
       "\n",
       "        [[ 0. +0.j ,  0. +0.j ,  0. -0.5j,  0. +0.j ],\n",
       "         [ 0. +0.j ,  0. +0.j ,  0. +0.j ,  0. +0.5j],\n",
       "         [ 0. +0.5j,  0. +0.j ,  0. +0.j ,  0. +0.j ],\n",
       "         [ 0. +0.j ,  0. -0.5j,  0. +0.j ,  0. +0.j ]]],\n",
       "\n",
       "\n",
       "       [[[ 0.5+0.j ,  0. +0.j ,  0. +0.j ,  0. +0.j ],\n",
       "         [ 0. +0.j ,  0.5+0.j ,  0. +0.j ,  0. +0.j ],\n",
       "         [ 0. +0.j ,  0. +0.j , -0.5+0.j ,  0. +0.j ],\n",
       "         [ 0. +0.j ,  0. +0.j ,  0. +0.j , -0.5+0.j ]],\n",
       "\n",
       "        [[ 0. +0.j ,  0.5+0.j ,  0. +0.j ,  0. +0.j ],\n",
       "         [ 0.5+0.j ,  0. +0.j ,  0. +0.j ,  0. +0.j ],\n",
       "         [ 0. +0.j ,  0. +0.j ,  0. +0.j , -0.5+0.j ],\n",
       "         [ 0. +0.j ,  0. +0.j , -0.5+0.j ,  0. +0.j ]],\n",
       "\n",
       "        [[ 0. +0.j ,  0. -0.5j,  0. +0.j ,  0. +0.j ],\n",
       "         [ 0. +0.5j,  0. +0.j ,  0. +0.j ,  0. +0.j ],\n",
       "         [ 0. +0.j ,  0. +0.j ,  0. +0.j ,  0. +0.5j],\n",
       "         [ 0. +0.j ,  0. +0.j ,  0. -0.5j,  0. +0.j ]],\n",
       "\n",
       "        [[ 0.5+0.j ,  0. +0.j ,  0. +0.j ,  0. +0.j ],\n",
       "         [ 0. +0.j , -0.5+0.j ,  0. +0.j ,  0. +0.j ],\n",
       "         [ 0. +0.j ,  0. +0.j , -0.5+0.j ,  0. +0.j ],\n",
       "         [ 0. +0.j ,  0. +0.j ,  0. +0.j ,  0.5+0.j ]]]])"
      ]
     },
     "execution_count": 4,
     "metadata": {},
     "output_type": "execute_result"
    }
   ],
   "source": [
    "rqutils.paulis.paulis((2, 2))"
   ]
  },
  {
   "cell_type": "code",
   "execution_count": 5,
   "id": "50c1b8d1-1d20-4bd3-941d-d705b971f1df",
   "metadata": {},
   "outputs": [
    {
     "data": {
      "text/plain": [
       "array([[[ 0.81649658+0.j,  0.        +0.j,  0.        +0.j],\n",
       "        [ 0.        +0.j,  0.81649658+0.j,  0.        +0.j],\n",
       "        [ 0.        +0.j,  0.        +0.j,  0.81649658+0.j]],\n",
       "\n",
       "       [[ 0.        +0.j,  1.        +0.j,  0.        +0.j],\n",
       "        [ 1.        +0.j,  0.        +0.j,  0.        +0.j],\n",
       "        [ 0.        +0.j,  0.        +0.j,  0.        +0.j]],\n",
       "\n",
       "       [[ 0.        +0.j,  0.        -1.j,  0.        +0.j],\n",
       "        [ 0.        +1.j,  0.        +0.j,  0.        +0.j],\n",
       "        [ 0.        +0.j,  0.        +0.j,  0.        +0.j]],\n",
       "\n",
       "       [[ 1.        +0.j,  0.        +0.j,  0.        +0.j],\n",
       "        [ 0.        +0.j, -1.        +0.j,  0.        +0.j],\n",
       "        [ 0.        +0.j,  0.        +0.j,  0.        +0.j]],\n",
       "\n",
       "       [[ 0.        +0.j,  0.        +0.j,  1.        +0.j],\n",
       "        [ 0.        +0.j,  0.        +0.j,  0.        +0.j],\n",
       "        [ 1.        +0.j,  0.        +0.j,  0.        +0.j]],\n",
       "\n",
       "       [[ 0.        +0.j,  0.        +0.j,  0.        -1.j],\n",
       "        [ 0.        +0.j,  0.        +0.j,  0.        +0.j],\n",
       "        [ 0.        +1.j,  0.        +0.j,  0.        +0.j]],\n",
       "\n",
       "       [[ 0.        +0.j,  0.        +0.j,  0.        +0.j],\n",
       "        [ 0.        +0.j,  0.        +0.j,  1.        +0.j],\n",
       "        [ 0.        +0.j,  1.        +0.j,  0.        +0.j]],\n",
       "\n",
       "       [[ 0.        +0.j,  0.        +0.j,  0.        +0.j],\n",
       "        [ 0.        +0.j,  0.        +0.j,  0.        -1.j],\n",
       "        [ 0.        +0.j,  0.        +1.j,  0.        +0.j]],\n",
       "\n",
       "       [[ 0.57735027+0.j,  0.        +0.j,  0.        +0.j],\n",
       "        [ 0.        +0.j,  0.57735027+0.j,  0.        +0.j],\n",
       "        [ 0.        +0.j,  0.        +0.j, -1.15470054+0.j]]])"
      ]
     },
     "execution_count": 5,
     "metadata": {},
     "output_type": "execute_result"
    }
   ],
   "source": [
    "rqutils.paulis.paulis(3)"
   ]
  },
  {
   "cell_type": "markdown",
   "id": "6ea999cf-1a6f-42f8-b19e-8e3f9e68499b",
   "metadata": {},
   "source": [
    "## `paulis.components`"
   ]
  },
  {
   "cell_type": "code",
   "execution_count": 6,
   "id": "d4d86c37-694d-47bc-9ddf-97449b20d855",
   "metadata": {},
   "outputs": [
    {
     "data": {
      "text/plain": [
       "array([[ 1.+0.j,  2.+0.j,  3.+0.j,  4.+0.j],\n",
       "       [ 5.+0.j,  6.+0.j,  7.+0.j,  8.+0.j],\n",
       "       [ 9.+0.j, 10.+0.j, 11.+0.j, 12.+0.j],\n",
       "       [13.+0.j, 14.+0.j, 15.+0.j, 16.+0.j]])"
      ]
     },
     "execution_count": 6,
     "metadata": {},
     "output_type": "execute_result"
    }
   ],
   "source": [
    "basis = rqutils.paulis.paulis((2, 2))\n",
    "components = np.arange(1, 17).reshape((4, 4))\n",
    "matrix = np.tensordot(basis, components, ((0, 1), (0, 1)))\n",
    "rqutils.paulis.components(matrix, dim=(2, 2))"
   ]
  },
  {
   "cell_type": "markdown",
   "id": "74e8f91d-1697-42b8-afdd-9cd45069fccc",
   "metadata": {},
   "source": [
    "## `paulis.compose`"
   ]
  },
  {
   "cell_type": "code",
   "execution_count": 7,
   "id": "f5643d9b-1dcd-4921-8d13-fcc165df3986",
   "metadata": {},
   "outputs": [
    {
     "data": {
      "text/plain": [
       "array([[ True,  True,  True,  True],\n",
       "       [ True,  True,  True,  True],\n",
       "       [ True,  True,  True,  True],\n",
       "       [ True,  True,  True,  True]])"
      ]
     },
     "execution_count": 7,
     "metadata": {},
     "output_type": "execute_result"
    }
   ],
   "source": [
    "rqutils.paulis.compose(components, dim=(2, 2)) == matrix"
   ]
  },
  {
   "cell_type": "markdown",
   "id": "bfce4916-7b26-40a9-82b0-dab5e2a92859",
   "metadata": {},
   "source": [
    "## `paulis.l0_projector`"
   ]
  },
  {
   "cell_type": "code",
   "execution_count": 8,
   "id": "d894cbc1-1485-458d-bffe-671f0d099d6a",
   "metadata": {},
   "outputs": [
    {
     "data": {
      "text/plain": [
       "True"
      ]
     },
     "execution_count": 8,
     "metadata": {},
     "output_type": "execute_result"
    }
   ],
   "source": [
    "v = rqutils.paulis.l0_projector(2, 4)\n",
    "manual = np.array([np.sqrt(2 / 4)] + [0.] * 7 + [np.sqrt(2 / 6)] + [0.] * 6 + [np.sqrt(2 / 12)])\n",
    "np.allclose(v, manual)"
   ]
  },
  {
   "cell_type": "markdown",
   "id": "4b87a3ea-9ad6-4333-a367-e2f62910f988",
   "metadata": {},
   "source": [
    "## `paulis.truncate`"
   ]
  },
  {
   "cell_type": "code",
   "execution_count": 9,
   "id": "89d5348f-1afd-4fa1-9269-baff29e1b17e",
   "metadata": {},
   "outputs": [
    {
     "data": {
      "text/plain": [
       "True"
      ]
     },
     "execution_count": 9,
     "metadata": {},
     "output_type": "execute_result"
    }
   ],
   "source": [
    "components = np.arange(1, 10)\n",
    "\n",
    "matrix = rqutils.paulis.compose(components, dim=3)\n",
    "submatrix = matrix[:2, :2]\n",
    "subcomponents = rqutils.paulis.components(submatrix, dim=2)\n",
    "\n",
    "np.allclose(rqutils.paulis.truncate(components, 2), subcomponents)"
   ]
  },
  {
   "cell_type": "code",
   "execution_count": 10,
   "id": "026c4cea-fef1-41bd-ba1b-4fc206c8ec77",
   "metadata": {},
   "outputs": [
    {
     "data": {
      "text/plain": [
       "array([0, 0, 1, 1, 3, 3, 4, 4])"
      ]
     },
     "execution_count": 10,
     "metadata": {},
     "output_type": "execute_result"
    }
   ],
   "source": [
    "np.repeat([0, 1, 3, 4], 2)"
   ]
  },
  {
   "cell_type": "code",
   "execution_count": 11,
   "id": "8f4bf2d9-0aca-4bf2-a4f2-81b90d5e893b",
   "metadata": {},
   "outputs": [
    {
     "data": {
      "text/plain": [
       "True"
      ]
     },
     "execution_count": 11,
     "metadata": {},
     "output_type": "execute_result"
    }
   ],
   "source": [
    "components = np.arange(1, 82).reshape((9, 9))\n",
    "\n",
    "matrix = rqutils.paulis.compose(components, dim=(3, 3))\n",
    "indices = (np.repeat([0, 1, 3, 4], 4), np.tile([0, 1, 3, 4], 4))\n",
    "submatrix = matrix[indices].reshape(4, 4)\n",
    "subcomponents = rqutils.paulis.components(submatrix, dim=(2, 2))\n",
    "\n",
    "np.allclose(rqutils.paulis.truncate(components, (2, 2)), subcomponents)"
   ]
  },
  {
   "cell_type": "markdown",
   "id": "cb2e210f-f911-4f6e-8cc0-59d17608d9e0",
   "metadata": {},
   "source": [
    "## `paulis.symmetry`"
   ]
  },
  {
   "cell_type": "code",
   "execution_count": 12,
   "id": "120c170c-eb74-49b8-a5bb-888745690a86",
   "metadata": {},
   "outputs": [
    {
     "data": {
      "text/plain": [
       "array([ 0,  1, -1,  0,  1, -1,  1, -1,  0])"
      ]
     },
     "execution_count": 12,
     "metadata": {},
     "output_type": "execute_result"
    }
   ],
   "source": [
    "rqutils.paulis.symmetry(3)"
   ]
  },
  {
   "cell_type": "markdown",
   "id": "2c5563cc-5a9b-4000-a29d-6d0a315b8b33",
   "metadata": {},
   "source": [
    "## `paulis.labels`"
   ]
  },
  {
   "cell_type": "code",
   "execution_count": 13,
   "id": "8018fe6c-e20b-4bec-b2e2-cdd6fdf37d68",
   "metadata": {},
   "outputs": [
    {
     "name": "stdout",
     "output_type": "stream",
     "text": [
      "\\lambda_{0}\n",
      "\\lambda_{1}\n",
      "\\lambda_{2}\n",
      "\\lambda_{3}\n",
      "\\lambda_{4}\n",
      "\\lambda_{5}\n",
      "\\lambda_{6}\n",
      "\\lambda_{7}\n",
      "\\lambda_{8}\n"
     ]
    }
   ],
   "source": [
    "labels = rqutils.paulis.labels(3)\n",
    "for label in labels:\n",
    "    print(label)"
   ]
  },
  {
   "cell_type": "code",
   "execution_count": 14,
   "id": "f0666251-a5a8-4cde-a7e9-a63997fb26f6",
   "metadata": {},
   "outputs": [
    {
     "data": {
      "text/plain": [
       "array([['\\\\frac{0,0}{2}', '\\\\frac{0,1}{2}', '\\\\frac{0,2}{2}',\n",
       "        '\\\\frac{0,3}{2}', '\\\\frac{0,4}{2}', '\\\\frac{0,5}{2}',\n",
       "        '\\\\frac{0,6}{2}', '\\\\frac{0,7}{2}', '\\\\frac{0,8}{2}'],\n",
       "       ['\\\\frac{1,0}{2}', '\\\\frac{1,1}{2}', '\\\\frac{1,2}{2}',\n",
       "        '\\\\frac{1,3}{2}', '\\\\frac{1,4}{2}', '\\\\frac{1,5}{2}',\n",
       "        '\\\\frac{1,6}{2}', '\\\\frac{1,7}{2}', '\\\\frac{1,8}{2}'],\n",
       "       ['\\\\frac{2,0}{2}', '\\\\frac{2,1}{2}', '\\\\frac{2,2}{2}',\n",
       "        '\\\\frac{2,3}{2}', '\\\\frac{2,4}{2}', '\\\\frac{2,5}{2}',\n",
       "        '\\\\frac{2,6}{2}', '\\\\frac{2,7}{2}', '\\\\frac{2,8}{2}'],\n",
       "       ['\\\\frac{3,0}{2}', '\\\\frac{3,1}{2}', '\\\\frac{3,2}{2}',\n",
       "        '\\\\frac{3,3}{2}', '\\\\frac{3,4}{2}', '\\\\frac{3,5}{2}',\n",
       "        '\\\\frac{3,6}{2}', '\\\\frac{3,7}{2}', '\\\\frac{3,8}{2}'],\n",
       "       ['\\\\frac{4,0}{2}', '\\\\frac{4,1}{2}', '\\\\frac{4,2}{2}',\n",
       "        '\\\\frac{4,3}{2}', '\\\\frac{4,4}{2}', '\\\\frac{4,5}{2}',\n",
       "        '\\\\frac{4,6}{2}', '\\\\frac{4,7}{2}', '\\\\frac{4,8}{2}'],\n",
       "       ['\\\\frac{5,0}{2}', '\\\\frac{5,1}{2}', '\\\\frac{5,2}{2}',\n",
       "        '\\\\frac{5,3}{2}', '\\\\frac{5,4}{2}', '\\\\frac{5,5}{2}',\n",
       "        '\\\\frac{5,6}{2}', '\\\\frac{5,7}{2}', '\\\\frac{5,8}{2}'],\n",
       "       ['\\\\frac{6,0}{2}', '\\\\frac{6,1}{2}', '\\\\frac{6,2}{2}',\n",
       "        '\\\\frac{6,3}{2}', '\\\\frac{6,4}{2}', '\\\\frac{6,5}{2}',\n",
       "        '\\\\frac{6,6}{2}', '\\\\frac{6,7}{2}', '\\\\frac{6,8}{2}'],\n",
       "       ['\\\\frac{7,0}{2}', '\\\\frac{7,1}{2}', '\\\\frac{7,2}{2}',\n",
       "        '\\\\frac{7,3}{2}', '\\\\frac{7,4}{2}', '\\\\frac{7,5}{2}',\n",
       "        '\\\\frac{7,6}{2}', '\\\\frac{7,7}{2}', '\\\\frac{7,8}{2}'],\n",
       "       ['\\\\frac{8,0}{2}', '\\\\frac{8,1}{2}', '\\\\frac{8,2}{2}',\n",
       "        '\\\\frac{8,3}{2}', '\\\\frac{8,4}{2}', '\\\\frac{8,5}{2}',\n",
       "        '\\\\frac{8,6}{2}', '\\\\frac{8,7}{2}', '\\\\frac{8,8}{2}']],\n",
       "      dtype='<U14')"
      ]
     },
     "execution_count": 14,
     "metadata": {},
     "output_type": "execute_result"
    }
   ],
   "source": [
    "rqutils.paulis.labels((3, 3), symbol='', delimiter=',')"
   ]
  },
  {
   "cell_type": "code",
   "execution_count": 15,
   "id": "7c722e55-8966-4085-948d-b9604c6d897b",
   "metadata": {},
   "outputs": [
    {
     "data": {
      "text/plain": [
       "array([['Iλ0/2', 'Iλ1/2', 'Iλ2/2', 'Iλ3/2', 'Iλ4/2', 'Iλ5/2', 'Iλ6/2',\n",
       "        'Iλ7/2', 'Iλ8/2', 'Iλ9/2', 'Iλ10/2', 'Iλ11/2', 'Iλ12/2',\n",
       "        'Iλ13/2', 'Iλ14/2', 'Iλ15/2'],\n",
       "       ['Xλ0/2', 'Xλ1/2', 'Xλ2/2', 'Xλ3/2', 'Xλ4/2', 'Xλ5/2', 'Xλ6/2',\n",
       "        'Xλ7/2', 'Xλ8/2', 'Xλ9/2', 'Xλ10/2', 'Xλ11/2', 'Xλ12/2',\n",
       "        'Xλ13/2', 'Xλ14/2', 'Xλ15/2'],\n",
       "       ['Yλ0/2', 'Yλ1/2', 'Yλ2/2', 'Yλ3/2', 'Yλ4/2', 'Yλ5/2', 'Yλ6/2',\n",
       "        'Yλ7/2', 'Yλ8/2', 'Yλ9/2', 'Yλ10/2', 'Yλ11/2', 'Yλ12/2',\n",
       "        'Yλ13/2', 'Yλ14/2', 'Yλ15/2'],\n",
       "       ['Zλ0/2', 'Zλ1/2', 'Zλ2/2', 'Zλ3/2', 'Zλ4/2', 'Zλ5/2', 'Zλ6/2',\n",
       "        'Zλ7/2', 'Zλ8/2', 'Zλ9/2', 'Zλ10/2', 'Zλ11/2', 'Zλ12/2',\n",
       "        'Zλ13/2', 'Zλ14/2', 'Zλ15/2']], dtype='<U7')"
      ]
     },
     "execution_count": 15,
     "metadata": {},
     "output_type": "execute_result"
    }
   ],
   "source": [
    "rqutils.paulis.labels((2, 4), fmt='text')"
   ]
  },
  {
   "cell_type": "code",
   "execution_count": null,
   "id": "7dda6dfc-fcb3-41d9-bfda-0785978d6141",
   "metadata": {},
   "outputs": [],
   "source": []
  }
 ],
 "metadata": {
  "kernelspec": {
   "display_name": "Python 3 (ipykernel)",
   "language": "python",
   "name": "python3"
  },
  "language_info": {
   "codemirror_mode": {
    "name": "ipython",
    "version": 3
   },
   "file_extension": ".py",
   "mimetype": "text/x-python",
   "name": "python",
   "nbconvert_exporter": "python",
   "pygments_lexer": "ipython3",
   "version": "3.8.10"
  }
 },
 "nbformat": 4,
 "nbformat_minor": 5
}
